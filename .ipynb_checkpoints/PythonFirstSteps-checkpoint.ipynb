{
 "cells": [
  {
   "cell_type": "markdown",
   "metadata": {},
   "source": [
    "# Learning\n",
    "This notebook contains some simple examples of using *Jupiter Notebook* and *Python3*"
   ]
  },
  {
   "cell_type": "markdown",
   "metadata": {},
   "source": [
    "## Example 1: *Hello, World!*"
   ]
  },
  {
   "cell_type": "code",
   "execution_count": 1,
   "metadata": {},
   "outputs": [
    {
     "name": "stdout",
     "output_type": "stream",
     "text": [
      "Hello, Chen Angelo\n",
      "\n"
     ]
    }
   ],
   "source": [
    "my_name = \"Chen Angelo\"\n",
    "hello_statement = \"Hello, \" + my_name;\n",
    "print(hello_statement, end=\"\\n\\n\")\n",
    "x = 10"
   ]
  },
  {
   "cell_type": "markdown",
   "metadata": {},
   "source": [
    "## Example 2: World's *best* loop is here"
   ]
  },
  {
   "cell_type": "code",
   "execution_count": 7,
   "metadata": {},
   "outputs": [
    {
     "name": "stdout",
     "output_type": "stream",
     "text": [
      "j=1  x=61\n",
      "j=2  x=63\n",
      "j=3  x=66\n",
      "j=4  x=70\n",
      "1\n"
     ]
    }
   ],
   "source": [
    "for j in range(1, 5):\n",
    "    x = x+j\n",
    "    print(\"j={0}  x={1}\".format(j, x))"
   ]
  }
 ],
 "metadata": {
  "kernelspec": {
   "display_name": "Python 3",
   "language": "python",
   "name": "python3"
  },
  "language_info": {
   "codemirror_mode": {
    "name": "ipython",
    "version": 3
   },
   "file_extension": ".py",
   "mimetype": "text/x-python",
   "name": "python",
   "nbconvert_exporter": "python",
   "pygments_lexer": "ipython3",
   "version": "3.6.4"
  }
 },
 "nbformat": 4,
 "nbformat_minor": 2
}
